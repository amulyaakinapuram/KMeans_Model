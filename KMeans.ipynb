{
  "nbformat": 4,
  "nbformat_minor": 0,
  "metadata": {
    "colab": {
      "provenance": []
    },
    "kernelspec": {
      "name": "python3",
      "display_name": "Python 3"
    },
    "language_info": {
      "name": "python"
    }
  },
  "cells": [
    {
      "cell_type": "code",
      "execution_count": 1,
      "metadata": {
        "id": "pIeivpIAs1_r"
      },
      "outputs": [],
      "source": [
        "#importing required libraries\n",
        "import pandas as pd\n",
        "import numpy as np\n",
        "\n",
        "from sklearn.cluster import KMeans\n",
        "from sklearn import metrics\n",
        "from sklearn import model_selection\n",
        "\n",
        "# Import scalers\n",
        "from sklearn.preprocessing import StandardScaler\n",
        "from sklearn.preprocessing import MinMaxScaler\n",
        "from sklearn.preprocessing import Binarizer\n",
        "\n",
        "# Plots\n",
        "import matplotlib.pyplot as plt"
      ]
    },
    {
      "cell_type": "code",
      "source": [
        "#creating a class for scaler\n",
        "class DummyScaler:\n",
        "    def fit(self, data):\n",
        "        pass\n",
        "    def transform(self, data):\n",
        "        return data"
      ],
      "metadata": {
        "id": "csiAkxKqu-Sm"
      },
      "execution_count": 2,
      "outputs": []
    },
    {
      "cell_type": "code",
      "source": [
        "seed = 520\n",
        "np.set_printoptions(precision=5)    "
      ],
      "metadata": {
        "id": "ZFrM9zIivImY"
      },
      "execution_count": 3,
      "outputs": []
    },
    {
      "cell_type": "markdown",
      "source": [
        "Use the pendigits dataset on the Canvas site. Partition the data randomly into 50% train and 50% test subsets."
      ],
      "metadata": {
        "id": "TNHkAjuHR96V"
      }
    },
    {
      "cell_type": "code",
      "source": [
        "#reading the csv file pendigits.csv and splitting the data into training and testing data as 50% and 50%\n",
        "X = pd.read_csv('pendigits.csv')\n",
        "X_train, X_test = model_selection.train_test_split(X, test_size=0.5, random_state=seed, shuffle=True)"
      ],
      "metadata": {
        "id": "GM84-vsavTEl"
      },
      "execution_count": 4,
      "outputs": []
    },
    {
      "cell_type": "code",
      "source": [
        "#printing the features\n",
        "print('Features:', X_train, sep='\\n')"
      ],
      "metadata": {
        "colab": {
          "base_uri": "https://localhost:8080/",
          "height": 0
        },
        "id": "aWUqmKSmvuaI",
        "outputId": "87d73557-c11e-4a0c-97f7-7937ebe869eb"
      },
      "execution_count": 5,
      "outputs": [
        {
          "output_type": "stream",
          "name": "stdout",
          "text": [
            "Features:\n",
            "       x0   x1  x2   x3   x4  x5   x6   x7   x8  x9  x10  x11  x12  x13  x14  \\\n",
            "3495   54   97  20   73   48  34   35    0    0  22   50   50  100   78   71   \n",
            "7482    0   49  40   59   72  79  100  100   85  74   69   48   53   21   51   \n",
            "3729   74  100  28   78    0  52    0   24   37   0  100    6   76   26   13   \n",
            "3560   37   94  44   57   94  99   28  100   53  73  100   64   75    7    0   \n",
            "762   100  100  59   82   31  56   17   27   35   0   83    0   49   16    0   \n",
            "...   ...  ...  ..  ...  ...  ..  ...  ...  ...  ..  ...  ...  ...  ...  ...   \n",
            "5359   55  100  33   83    0  53   40   39  100  47   90   60   48   32   23   \n",
            "2772   40  100  11   87    0  57   11   29   66  40  100   58   82   29   78   \n",
            "411    72   83  49  100   61  58   82   17    0   0   25   33  100   61   75   \n",
            "3691    0   87  39  100   61  70   47   27   36   0   11   33   55   35  100   \n",
            "6828   28   83  66  100  100  86   81   60   94  43   96   18   54    0    0   \n",
            "\n",
            "      x15  \n",
            "3495  100  \n",
            "7482    0  \n",
            "3729   19  \n",
            "3560    0  \n",
            "762     8  \n",
            "...   ...  \n",
            "5359    0  \n",
            "2772    0  \n",
            "411    92  \n",
            "3691   39  \n",
            "6828    2  \n",
            "\n",
            "[3747 rows x 16 columns]\n"
          ]
        }
      ]
    },
    {
      "cell_type": "code",
      "source": [
        "#function to calculate SSE given distances from new data set with fixed cluster centers from a previous data set min function finds the closest cluster\n",
        "def getSSE(what, dists):\n",
        "  dists = dists.min(axis=1)\n",
        "  # square the distances\n",
        "  dists_sq = dists*dists\n",
        "  print('sum of squared dist: ' + what, dists_sq.sum())\n",
        "  print('mean squared dist: ' + what, dists_sq.sum()/dists_sq.shape[0])"
      ],
      "metadata": {
        "id": "O4Hwqh8Gwraa"
      },
      "execution_count": 10,
      "outputs": []
    },
    {
      "cell_type": "code",
      "source": [
        "#scaling the data\n",
        "scaler = StandardScaler()\n",
        "scaler.fit(X_train)\n",
        "X_train_scaled = scaler.transform(X_train)"
      ],
      "metadata": {
        "id": "7iLYUGWqv_CV"
      },
      "execution_count": 6,
      "outputs": []
    },
    {
      "cell_type": "markdown",
      "source": [
        "1) Use KMeans to cluster the train data. Report the sum of squared errors (SSE) for\n",
        "K = 5 clusters."
      ],
      "metadata": {
        "id": "x0_X2k6lSJJ8"
      }
    },
    {
      "cell_type": "code",
      "source": [
        "#building a kmeans model with a cluster value of 5\n",
        "model = KMeans(n_clusters=5)\n",
        "model.fit(X_train_scaled)"
      ],
      "metadata": {
        "colab": {
          "base_uri": "https://localhost:8080/",
          "height": 0
        },
        "id": "r-IKoohiwAyM",
        "outputId": "f323e0fa-de8d-42a2-8a98-2a100d973610"
      },
      "execution_count": 7,
      "outputs": [
        {
          "output_type": "execute_result",
          "data": {
            "text/plain": [
              "KMeans(n_clusters=5)"
            ]
          },
          "metadata": {},
          "execution_count": 7
        }
      ]
    },
    {
      "cell_type": "code",
      "source": [
        "# Calculate sum of squared errors\n",
        "print('SSE ', model.inertia_)\n",
        "# Assign instances to clusters, clustered are identified with an integer ID\n",
        "y_train_hat = model.predict(X_train_scaled)\n",
        "y_train_hat"
      ],
      "metadata": {
        "colab": {
          "base_uri": "https://localhost:8080/",
          "height": 0
        },
        "id": "V8li52xQcFOe",
        "outputId": "0610d976-c4d3-4d0e-b3ab-b13a8d19c510"
      },
      "execution_count": 20,
      "outputs": [
        {
          "output_type": "stream",
          "name": "stdout",
          "text": [
            "SSE  29852.9327633976\n"
          ]
        },
        {
          "output_type": "execute_result",
          "data": {
            "text/plain": [
              "array([1, 0, 3, ..., 4, 4, 2], dtype=int32)"
            ]
          },
          "metadata": {},
          "execution_count": 20
        }
      ]
    },
    {
      "cell_type": "code",
      "source": [
        "dists = model.transform(X_train_scaled)\n",
        "getSSE('train', dists)"
      ],
      "metadata": {
        "colab": {
          "base_uri": "https://localhost:8080/",
          "height": 0
        },
        "id": "yKwD0OO2AY7w",
        "outputId": "54c39e7f-66a7-4ca2-84a2-2555492e642d"
      },
      "execution_count": 60,
      "outputs": [
        {
          "output_type": "stream",
          "name": "stdout",
          "text": [
            "sum of squared dist: train 29852.932763397584\n",
            "mean squared dist: train 7.967155794875256\n"
          ]
        }
      ]
    },
    {
      "cell_type": "code",
      "source": [
        "#installing kneed \n",
        "!pip install kneed "
      ],
      "metadata": {
        "colab": {
          "base_uri": "https://localhost:8080/",
          "height": 0
        },
        "id": "-AM5mRPP2Utn",
        "outputId": "aff7f3a7-cc10-4c22-f31e-6611b7629fb6"
      },
      "execution_count": 22,
      "outputs": [
        {
          "output_type": "stream",
          "name": "stdout",
          "text": [
            "Looking in indexes: https://pypi.org/simple, https://us-python.pkg.dev/colab-wheels/public/simple/\n",
            "Collecting kneed\n",
            "  Downloading kneed-0.8.1-py2.py3-none-any.whl (10 kB)\n",
            "Requirement already satisfied: numpy>=1.14.2 in /usr/local/lib/python3.7/dist-packages (from kneed) (1.21.6)\n",
            "Requirement already satisfied: scipy>=1.0.0 in /usr/local/lib/python3.7/dist-packages (from kneed) (1.7.3)\n",
            "Installing collected packages: kneed\n",
            "Successfully installed kneed-0.8.1\n"
          ]
        }
      ]
    },
    {
      "cell_type": "markdown",
      "source": [
        "2) Repeat the previous exercise for multiple values of K and plot the train data SSE versus K. Comment on the K you recommend."
      ],
      "metadata": {
        "id": "lAhcXHUlSPpf"
      }
    },
    {
      "cell_type": "code",
      "source": [
        "#building another kmeans model with a cluster value of 7\n",
        "model_k = KMeans(n_clusters=7)\n",
        "model_k.fit(X_train_scaled)"
      ],
      "metadata": {
        "colab": {
          "base_uri": "https://localhost:8080/",
          "height": 0
        },
        "id": "c61rnCvf1W4T",
        "outputId": "16ef4b4e-4ea5-4b93-8b65-cce810a2ec82"
      },
      "execution_count": 55,
      "outputs": [
        {
          "output_type": "execute_result",
          "data": {
            "text/plain": [
              "KMeans(n_clusters=7)"
            ]
          },
          "metadata": {},
          "execution_count": 55
        }
      ]
    },
    {
      "cell_type": "code",
      "source": [
        "# Calculate sum of squared errors\n",
        "print('Sum of Squared Errors of k=7 ', model_k.inertia_)"
      ],
      "metadata": {
        "colab": {
          "base_uri": "https://localhost:8080/",
          "height": 0
        },
        "id": "t4Ad0gpk17fG",
        "outputId": "097b0177-e107-47f8-9f60-ed7a58443e48"
      },
      "execution_count": 57,
      "outputs": [
        {
          "output_type": "stream",
          "name": "stdout",
          "text": [
            "Sum of Squared Errors of k=7  24133.57125612632\n"
          ]
        }
      ]
    },
    {
      "cell_type": "code",
      "source": [
        "#and also building other kmeans model with a cluster value of 4\n",
        "model_2 = KMeans(n_clusters=4)\n",
        "model_2.fit(X_train_scaled)"
      ],
      "metadata": {
        "colab": {
          "base_uri": "https://localhost:8080/",
          "height": 0
        },
        "id": "MvUwXOer2Ptr",
        "outputId": "82e858c9-08f0-4891-cecc-59f07ca47baa"
      },
      "execution_count": 58,
      "outputs": [
        {
          "output_type": "execute_result",
          "data": {
            "text/plain": [
              "KMeans(n_clusters=4)"
            ]
          },
          "metadata": {},
          "execution_count": 58
        }
      ]
    },
    {
      "cell_type": "code",
      "source": [
        "# Calculate sum of squared errors\n",
        "print('Sum of squared errors of k=4 ', model_2.inertia_)"
      ],
      "metadata": {
        "colab": {
          "base_uri": "https://localhost:8080/",
          "height": 0
        },
        "id": "MIyny4hA3Wwm",
        "outputId": "6ab26d59-a8e9-4733-df1f-67d6ae349afa"
      },
      "execution_count": 59,
      "outputs": [
        {
          "output_type": "stream",
          "name": "stdout",
          "text": [
            "Sum of squared errors of k=4  32713.78672381282\n"
          ]
        }
      ]
    },
    {
      "cell_type": "code",
      "source": [
        "#plotting a graph between Sum of Squared Errors (SSE) and number of clusters (K)  for train data\n",
        "ce = []\n",
        "K = range(1,9)\n",
        "for k in K:\n",
        "    kmeanModel = KMeans(n_clusters=k)\n",
        "    kmeanModel.fit(X_train_scaled)\n",
        "    ce.append(kmeanModel.inertia_)\n",
        "\n",
        "plt.figure(figsize=(16,8))\n",
        "plt.plot(K, ce, 'o-')\n",
        "plt.xlabel('Number of Clusters')\n",
        "plt.ylabel('Sum of squared errors(train data)')\n",
        "plt.title('The Elbow Method showing the optimal k')\n",
        "plt.show()"
      ],
      "metadata": {
        "id": "SFXXZcsJ4WBb",
        "colab": {
          "base_uri": "https://localhost:8080/",
          "height": 558
        },
        "outputId": "87f5bed8-1361-429a-8489-b4711b84e996"
      },
      "execution_count": 47,
      "outputs": [
        {
          "output_type": "display_data",
          "data": {
            "text/plain": [
              "<Figure size 1152x576 with 1 Axes>"
            ],
            "image/png": "[encoded data removed]"
          },
          "metadata": {}
        }
      ]
    },
    {
      "cell_type": "markdown",
      "source": [
        "From the above graph we can conclude that difference of the curve between 4 and 5 is lower so we consider the value 4 for the number of clusters is better model.\n",
        "\n",
        "\n",
        "\n"
      ],
      "metadata": {
        "id": "7FJwgvklSc6n"
      }
    },
    {
      "cell_type": "code",
      "source": [
        "#from kneed importing kneelocator to know the best cluster \n",
        "from kneed import KneeLocator\n",
        "kl = KneeLocator(range(1, 11), cs, curve=\"convex\", direction=\"decreasing\" )\n",
        "kl.elbow"
      ],
      "metadata": {
        "colab": {
          "base_uri": "https://localhost:8080/",
          "height": 0
        },
        "id": "ly16FH_C2awx",
        "outputId": "7f323ce2-5038-4157-d86b-ee261d28ba34"
      },
      "execution_count": 48,
      "outputs": [
        {
          "output_type": "execute_result",
          "data": {
            "text/plain": [
              "4"
            ]
          },
          "metadata": {},
          "execution_count": 48
        }
      ]
    },
    {
      "cell_type": "markdown",
      "source": [
        "we got 4 from the kneelocator as the best no. of cluster"
      ],
      "metadata": {
        "id": "Kf3sgyvQTL6N"
      }
    },
    {
      "cell_type": "markdown",
      "source": [
        "3) Use the cluster centers learned from the train data to cluster the test data. A test instance is assigned to the nearest cluster center learned from the train data.Use the same K values in the previous exercise and plot test data SSE versus K."
      ],
      "metadata": {
        "id": "66Fju34ATxwL"
      }
    },
    {
      "cell_type": "code",
      "source": [
        "# from function getSSE be applied to test data to obtain test data SSE for cluster centers obtained from train data\n",
        "X_test_scaled = scaler.transform(X_test)\n",
        "y_test_pred = model.predict(X_test_scaled)\n",
        "dists = model.transform(X_test_scaled)\n",
        "getSSE('test', dists)"
      ],
      "metadata": {
        "colab": {
          "base_uri": "https://localhost:8080/",
          "height": 0
        },
        "id": "WnawLbuUzjnz",
        "outputId": "aaa9c51c-2e2b-42f5-86ce-89a9c89e61d0"
      },
      "execution_count": 12,
      "outputs": [
        {
          "output_type": "stream",
          "name": "stdout",
          "text": [
            "sum of squared dist: test 30268.393814781466\n",
            "mean squared dist: test 8.078034111230709\n"
          ]
        }
      ]
    },
    {
      "cell_type": "code",
      "source": [
        "#plotting a graph between Sum of Squared Errors (SSE) and number of clusters (K)  for test data\n",
        "sse = []\n",
        "K = range(1,9)\n",
        "for k in K:\n",
        "    kmeanModel_test = KMeans(n_clusters=k)\n",
        "    kmeanModel_test.fit(X_test_scaled)\n",
        "    sse.append(kmeanModel_test.inertia_)\n",
        "\n",
        "plt.figure(figsize=(16,8))\n",
        "plt.plot(K, sse, 'o-')\n",
        "plt.xlabel('Number of Clusters')\n",
        "plt.ylabel('Sum of squared errors(test data)')\n",
        "plt.title('The Elbow Method showing the optimal k')\n",
        "plt.show()"
      ],
      "metadata": {
        "id": "-J58qVok4rhz",
        "colab": {
          "base_uri": "https://localhost:8080/",
          "height": 558
        },
        "outputId": "c3507abb-7a1c-4753-d89c-6cdaa638dee5"
      },
      "execution_count": 63,
      "outputs": [
        {
          "output_type": "display_data",
          "data": {
            "text/plain": [
              "<Figure size 1152x576 with 1 Axes>"
            ],
            "image/png": "[encoded data removed]"
          },
          "metadata": {}
        }
      ]
    },
    {
      "cell_type": "markdown",
      "source": [
        "4) Comment on the K you recommend from the test data SSE plot. Comment on any\n",
        "differences from the train and test SSE plots."
      ],
      "metadata": {
        "id": "SJtXERyFUFQx"
      }
    },
    {
      "cell_type": "markdown",
      "source": [
        "From the above graph we can conclude that difference of the curve between 4 and 5 is lower so we consider the value 4 for the number of clusters is better model."
      ],
      "metadata": {
        "id": "hp43ExqqUVZx"
      }
    },
    {
      "cell_type": "code",
      "source": [
        "#from kneed importing kneelocator to know the best cluster \n",
        "from kneed import KneeLocator\n",
        "kl1 = KneeLocator(range(1, 11), sse, curve=\"convex\", direction=\"decreasing\" )\n",
        "kl1.elbow"
      ],
      "metadata": {
        "colab": {
          "base_uri": "https://localhost:8080/",
          "height": 0
        },
        "id": "wPcvR19-22kZ",
        "outputId": "ddc62150-fa06-491d-b1f0-d91e0a8c57b1"
      },
      "execution_count": 26,
      "outputs": [
        {
          "output_type": "execute_result",
          "data": {
            "text/plain": [
              "4"
            ]
          },
          "metadata": {},
          "execution_count": 26
        }
      ]
    },
    {
      "cell_type": "markdown",
      "source": [
        "we got 4 from the kneelocator as the best no. of cluster."
      ],
      "metadata": {
        "id": "omzsCyivUvRA"
      }
    },
    {
      "cell_type": "markdown",
      "source": [
        "There is no difference between train data SSE and test data SSE because we splitted the dataset into 50-50%."
      ],
      "metadata": {
        "id": "JhbTXDeAUqkh"
      }
    },
    {
      "cell_type": "markdown",
      "source": [
        "Calculating the accuracy for clusters by which number of cluster to be considered."
      ],
      "metadata": {
        "id": "kSY8ag2RQzCi"
      }
    },
    {
      "cell_type": "code",
      "source": [
        "from sklearn.cluster import KMeans\n",
        "\n",
        "kmeans = KMeans(n_clusters=3,random_state=0)\n",
        "\n",
        "kmeans.fit(X_train_scaled)\n",
        "\n",
        "labels = kmeans.labels_\n",
        "\n",
        "# check how many of the samples were correctly labeled\n",
        "\n",
        "correct_labels = sum(labels)\n",
        "\n",
        "print(\"Result: %d out of %d samples were correctly labeled.\" % (correct_labels, labels.size))\n",
        "\n",
        "print('Accuracy score: {0:0.2f}'. format(correct_labels/float(labels.size)))"
      ],
      "metadata": {
        "colab": {
          "base_uri": "https://localhost:8080/",
          "height": 0
        },
        "id": "OeOAHpbK6woK",
        "outputId": "0affaa31-cbef-4e21-9454-ee4bd0f57745"
      },
      "execution_count": 36,
      "outputs": [
        {
          "output_type": "stream",
          "name": "stdout",
          "text": [
            "Result: 3466 out of 3747 samples were correctly labeled.\n",
            "Accuracy score: 0.93\n"
          ]
        }
      ]
    },
    {
      "cell_type": "code",
      "source": [
        "from sklearn.cluster import KMeans\n",
        "\n",
        "kmeans = KMeans(n_clusters=4,random_state=0)\n",
        "\n",
        "kmeans.fit(X_train_scaled)\n",
        "\n",
        "labels = kmeans.labels_\n",
        "\n",
        "# check how many of the samples were correctly labeled\n",
        "\n",
        "correct_labels = sum(labels)\n",
        "\n",
        "print(\"Result: %d out of %d samples were correctly labeled.\" % (correct_labels, labels.size))\n",
        "\n",
        "print('Accuracy score: {0:0.2f}'. format(correct_labels/float(labels.size)))"
      ],
      "metadata": {
        "colab": {
          "base_uri": "https://localhost:8080/",
          "height": 0
        },
        "id": "fUEx7AkE3zqp",
        "outputId": "a7cc157f-f65c-4251-c796-de6500304314"
      },
      "execution_count": 34,
      "outputs": [
        {
          "output_type": "stream",
          "name": "stdout",
          "text": [
            "Result: 6227 out of 3747 samples were correctly labeled.\n",
            "Accuracy score: 1.66\n"
          ]
        }
      ]
    },
    {
      "cell_type": "markdown",
      "source": [
        "After calculating the accuracy :\n",
        "Got higher accuracy for number of clusters is equal to 4."
      ],
      "metadata": {
        "id": "d-5zGqukRJIo"
      }
    }
  ]
}